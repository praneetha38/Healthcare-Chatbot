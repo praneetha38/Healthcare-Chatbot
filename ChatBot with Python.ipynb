{
 "cells": [
  {
   "cell_type": "code",
   "execution_count": 1,
   "metadata": {},
   "outputs": [
    {
     "name": "stdout",
     "output_type": "stream",
     "text": [
      "\n",
      "Welcome to HealthCheck Services. Please type your query below. To end the conversation, type 'quit'.\n",
      "User: "
     ]
    },
    {
     "name": "stdin",
     "output_type": "stream",
     "text": [
      " hi \n"
     ]
    },
    {
     "name": "stdout",
     "output_type": "stream",
     "text": [
      "Bot:  Hi there\n",
      "User: "
     ]
    },
    {
     "name": "stdin",
     "output_type": "stream",
     "text": [
      " age \n"
     ]
    },
    {
     "name": "stdout",
     "output_type": "stream",
     "text": [
      "Bot:  I get reborn after every compilation\n",
      "User: "
     ]
    },
    {
     "name": "stdin",
     "output_type": "stream",
     "text": [
      " fever \n"
     ]
    },
    {
     "name": "stdout",
     "output_type": "stream",
     "text": [
      "Bot:  I'm not sure I understand. Could you please rephrase?\n",
      "User: "
     ]
    },
    {
     "name": "stdin",
     "output_type": "stream",
     "text": [
      " i need to know about Fever \n"
     ]
    },
    {
     "name": "stdout",
     "output_type": "stream",
     "text": [
      "Bot:  Move to a cool place. Remove all unnecessary clothing like a jacket or socks. Drink any sports or rehydration drink, or cool water. A bath of cold or ice water has proven to be the most effective way of quickly lowering the core body temperature. The quicker you can receive cold water immersion, the less risk of organ damage and death. \n",
      "User: "
     ]
    },
    {
     "name": "stdin",
     "output_type": "stream",
     "text": [
      " fever \n"
     ]
    },
    {
     "name": "stdout",
     "output_type": "stream",
     "text": [
      "Bot:  I'm not sure I understand. Could you please rephrase?\n",
      "User: "
     ]
    },
    {
     "name": "stdin",
     "output_type": "stream",
     "text": [
      " Heart \n"
     ]
    },
    {
     "name": "stdout",
     "output_type": "stream",
     "text": [
      "Bot:  I'm not sure I understand. Could you please rephrase?\n",
      "User: "
     ]
    },
    {
     "name": "stdin",
     "output_type": "stream",
     "text": [
      " could you tell em about the Heart \n"
     ]
    },
    {
     "name": "stdout",
     "output_type": "stream",
     "text": [
      "Bot:  First aid actions to manage external bleeding include applying direct pressure to the wound, maintaining the pressure using pads and bandages, and, raising the injured limb above the level of the heart if possible.\n",
      "User: "
     ]
    },
    {
     "name": "stdin",
     "output_type": "stream",
     "text": [
      " Heart attack \n"
     ]
    },
    {
     "name": "stdout",
     "output_type": "stream",
     "text": [
      "Bot:  I'm not sure I understand. Could you please rephrase?\n",
      "User: "
     ]
    },
    {
     "name": "stdin",
     "output_type": "stream",
     "text": [
      " i think i have symptoms of Heart attack \n"
     ]
    },
    {
     "name": "stdout",
     "output_type": "stream",
     "text": [
      "Bot:   Wash your hands, then the area around the splinter with soap and warm water. Sterilize tweezers and a needle by putting the ends of each in boiling water, then wipe them off with a clean cotton ball or alcohol pad. If the splinter is sticking through the skin, firmly grip the end with the tweezers. Pull slowly and gently at the same angle the splinter went in so it won't break. If the tip of the splinter isn't sticking out, gently scrape the skin away from the splinter with the needle until there's an end to grab with the tweezers. After the splinter is removed, wash the area again, apply petroleum jelly and cover it with a bandage.\n",
      "User: "
     ]
    },
    {
     "name": "stdin",
     "output_type": "stream",
     "text": [
      " Splinter\n"
     ]
    },
    {
     "name": "stdout",
     "output_type": "stream",
     "text": [
      "Bot:  Feel free to come back again incase you need more help\n",
      "User: "
     ]
    },
    {
     "name": "stdin",
     "output_type": "stream",
     "text": [
      " by e\n"
     ]
    },
    {
     "name": "stdout",
     "output_type": "stream",
     "text": [
      "Bot:  You're most welcome!\n",
      "User: "
     ]
    },
    {
     "name": "stdin",
     "output_type": "stream",
     "text": [
      " bye \n"
     ]
    },
    {
     "name": "stdout",
     "output_type": "stream",
     "text": [
      "Bot:  Feel free to come back again incase you need more help\n",
      "User: "
     ]
    },
    {
     "name": "stdin",
     "output_type": "stream",
     "text": [
      " thank u \n"
     ]
    },
    {
     "name": "stdout",
     "output_type": "stream",
     "text": [
      "Bot:  Any time!\n",
      "User: "
     ]
    },
    {
     "name": "stdin",
     "output_type": "stream",
     "text": [
      " quit\n"
     ]
    },
    {
     "name": "stdout",
     "output_type": "stream",
     "text": [
      "Bot: Goodbye! Stay safe.\n"
     ]
    }
   ],
   "source": [
    "import json\n",
    "import numpy as np\n",
    "import random\n",
    "import pickle\n",
    "from tensorflow import keras\n",
    "\n",
    "import colorama\n",
    "colorama.init()\n",
    "from colorama import Fore, Style\n",
    "\n",
    "with open(\"intents.json\") as file:\n",
    "    data = json.load(file)\n",
    "\n",
    "def chat():\n",
    "    model = keras.models.load_model('chat_model')\n",
    "\n",
    "    with open('tokenizer.pickle', 'rb') as handle:\n",
    "        tokenizer = pickle.load(handle)\n",
    "\n",
    "    with open('label_encoder.pickle', 'rb') as enc:\n",
    "        lbl_encoder = pickle.load(enc)\n",
    "\n",
    "    max_len = 20\n",
    "\n",
    "    print(Fore.YELLOW + \"\\nWelcome to HealthCheck Services. Please type your query below. To end the conversation, type 'quit'.\" + Style.RESET_ALL)\n",
    "\n",
    "    while True:\n",
    "        print(Fore.LIGHTBLUE_EX + \"User: \" + Style.RESET_ALL, end=\"\")\n",
    "        inp = input()\n",
    "\n",
    "        if inp.lower().strip() == \"quit\":\n",
    "            print(Fore.GREEN + \"Bot: \" + Style.RESET_ALL + \"Goodbye! Stay safe.\")\n",
    "            break\n",
    "\n",
    "        sequence = tokenizer.texts_to_sequences([inp])\n",
    "        padded_input = keras.preprocessing.sequence.pad_sequences(sequence, truncating='post', maxlen=max_len)\n",
    "\n",
    "        result = model.predict(padded_input, verbose=0)\n",
    "        confidence = np.max(result)\n",
    "        predicted_index = np.argmax(result)\n",
    "\n",
    "        if confidence < 0.5:\n",
    "            print(Fore.GREEN + \"Bot: \" + Style.RESET_ALL, \"I'm not sure I understand. Could you please rephrase?\")\n",
    "            continue\n",
    "\n",
    "        tag = lbl_encoder.inverse_transform([predicted_index])[0]\n",
    "\n",
    "        for intent in data['intents']:\n",
    "            if intent['tag'] == tag:\n",
    "                print(Fore.GREEN + \"Bot: \" + Style.RESET_ALL, random.choice(intent['responses']))\n",
    "                break\n",
    "\n",
    "chat()\n"
   ]
  },
  {
   "cell_type": "code",
   "execution_count": null,
   "metadata": {},
   "outputs": [],
   "source": []
  }
 ],
 "metadata": {
  "kernelspec": {
   "display_name": "Python 3 (ipykernel)",
   "language": "python",
   "name": "python3"
  },
  "language_info": {
   "codemirror_mode": {
    "name": "ipython",
    "version": 3
   },
   "file_extension": ".py",
   "mimetype": "text/x-python",
   "name": "python",
   "nbconvert_exporter": "python",
   "pygments_lexer": "ipython3",
   "version": "3.11.0"
  }
 },
 "nbformat": 4,
 "nbformat_minor": 4
}
